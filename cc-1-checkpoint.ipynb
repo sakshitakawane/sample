{
 "cells": [
  {
   "cell_type": "code",
   "execution_count": 1,
   "metadata": {},
   "outputs": [
    {
     "name": "stdout",
     "output_type": "stream",
     "text": [
      "10\n",
      "5\n",
      "15\n",
      "5\n",
      "50\n"
     ]
    }
   ],
   "source": [
    "\"\"\"\n",
    "Read two integers from STDIN and print three lines where:\n",
    "● The first line contains the sum of the two numbers.\n",
    "● The second line contains the difference between the two numbers (first - second).\n",
    "● The third line contains the product of the two numbers. \n",
    " \n",
    "\"\"\"\n",
    "\n",
    "a = int(input())                          #Read two integers\n",
    "b = int(input())\n",
    "\n",
    "if 1<=a<=10**10 and 1<=b<=10**10:         #constraints\n",
    " sum = a+b\n",
    " difference = a-b\n",
    " product = a*b\n",
    " print (sum)                              #The first line contains the sum of the two numbers.\n",
    " print (difference)                       #The second line contains the difference of the two numbers (first - second).\n",
    " print (product)            "
   ]
  },
  {
   "cell_type": "markdown",
   "metadata": {},
   "source": [
    "##### "
   ]
  }
 ],
 "metadata": {
  "kernelspec": {
   "display_name": "Python 3",
   "language": "python",
   "name": "python3"
  },
  "language_info": {
   "codemirror_mode": {
    "name": "ipython",
    "version": 3
   },
   "file_extension": ".py",
   "mimetype": "text/x-python",
   "name": "python",
   "nbconvert_exporter": "python",
   "pygments_lexer": "ipython3",
   "version": "3.7.6"
  }
 },
 "nbformat": 4,
 "nbformat_minor": 4
}
